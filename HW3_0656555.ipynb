{
 "cells": [
  {
   "cell_type": "code",
   "execution_count": 1,
   "metadata": {},
   "outputs": [],
   "source": [
    "import numpy as np\n",
    "import gym\n",
    "import random\n",
    "import sys\n",
    "import os\n",
    "import time\n",
    "import datetime\n",
    "import pandas as pd\n",
    "from IPython.display import clear_output\n",
    "import copy\n",
    "\n",
    "SOLVE_TAXI_MESSAGE = \"\"\"Task : \\n\n",
    "1) The cab(YELLOW) should find the shortest path to BLUE(passenger) \n",
    "2) Perform a \"pickup\" action to board the passenger which turns the cab(GREEN)\n",
    "3) Take the passenger to the PINK(drop location) using the shortest path\n",
    "4) Perform a \"dropoff\" action\n",
    "\"\"\""
   ]
  },
  {
   "cell_type": "code",
   "execution_count": 2,
   "metadata": {},
   "outputs": [
    {
     "name": "stdout",
     "output_type": "stream",
     "text": [
      "+---------+\n",
      "|\u001b[34;1mR\u001b[0m:\u001b[43m \u001b[0m| : :\u001b[35mG\u001b[0m|\n",
      "| : : : : |\n",
      "| : : : : |\n",
      "| | : | : |\n",
      "|Y| : |B: |\n",
      "+---------+\n",
      "\n"
     ]
    }
   ],
   "source": [
    "env = gym.make(\"Taxi-v2\")\n",
    "env.render()"
   ]
  },
  {
   "cell_type": "code",
   "execution_count": 3,
   "metadata": {},
   "outputs": [
    {
     "name": "stdout",
     "output_type": "stream",
     "text": [
      "Action size  6\n",
      "State size  500\n"
     ]
    }
   ],
   "source": [
    "action_size = env.action_space.n\n",
    "print(\"Action size \", action_size)\n",
    "\n",
    "state_size = env.observation_space.n\n",
    "print(\"State size \", state_size)"
   ]
  },
  {
   "cell_type": "markdown",
   "metadata": {},
   "source": [
    "# SARSA"
   ]
  },
  {
   "cell_type": "code",
   "execution_count": 4,
   "metadata": {},
   "outputs": [],
   "source": [
    "def timestamp():\n",
    "    return int(datetime.datetime.now().timestamp() * 100)\n",
    "\n",
    "\n",
    "def clear_screen(delay=1):\n",
    "    time.sleep(delay)\n",
    "    clear_output(wait=True)\n",
    "    \n",
    "def log_progress(env, reward=0, total_reward=0, delay=None, message=None):\n",
    "    if type(message) is str:\n",
    "        print(message)\n",
    "    env.render()\n",
    "    print('Reward:', reward)\n",
    "    print('Cumulative reward', total_reward)\n",
    "    clear_screen(delay)\n",
    "    \n",
    "def perf_message(attempt, perf):\n",
    "    return '{}\\nAttempt: {} | Average reward (until last episode): {:.2f}'.format(\n",
    "        SOLVE_TAXI_MESSAGE, \n",
    "        attempt + 1, \n",
    "        perf\n",
    "    )"
   ]
  },
  {
   "cell_type": "code",
   "execution_count": 5,
   "metadata": {},
   "outputs": [
    {
     "name": "stdout",
     "output_type": "stream",
     "text": [
      "[[0. 0. 0. 0. 0. 0.]\n",
      " [0. 0. 0. 0. 0. 0.]\n",
      " [0. 0. 0. 0. 0. 0.]\n",
      " ...\n",
      " [0. 0. 0. 0. 0. 0.]\n",
      " [0. 0. 0. 0. 0. 0.]\n",
      " [0. 0. 0. 0. 0. 0.]]\n"
     ]
    }
   ],
   "source": [
    "qtable = np.zeros((state_size, action_size))\n",
    "print(qtable)"
   ]
  },
  {
   "cell_type": "code",
   "execution_count": 6,
   "metadata": {},
   "outputs": [],
   "source": [
    "# Do not change the following four hyperparameters!!!!\n",
    "\n",
    "total_episodes = 50000        # Total episodes\n",
    "total_test_episodes = 100     # Total test episodes\n",
    "total_demo_episodes = 10      # Total demo episodes\n",
    "max_steps = 99                # Max steps per episode\n",
    "\n",
    "\n",
    "\n",
    "#***********Part1: Set the following hyperparameters by yourself************\n",
    "##### ========= param for sarsa with greedy ============== ######\n",
    "##### ========= to get , score over time > 8.0 ====== #####\n",
    "# learning_rate = 0.05             # Learning rate # a.k.a alpha\n",
    "# gamma = 0.99                     # Discounting rate \n",
    "\n",
    "# # Exploration parameters\n",
    "# epsilon = 1.0                     # Exploration rate \n",
    "# max_epsilon = 1.0                # Exploration probability at start\n",
    "# min_epsilon = 0.1                # Minimum exploration probability \n",
    "# decay_rate = 0.01                 # Exponential decay rate for exploration prob\n",
    "\n",
    "\n",
    "learning_rate = 0.05             # Learning rate # a.k.a alpha\n",
    "gamma = 0.99                     # Discounting rate \n",
    "\n",
    "# Exploration parameters\n",
    "epsilon = 1.0                     # Exploration rate \n",
    "max_epsilon = 1.0                # Exploration probability at start\n",
    "min_epsilon = 0.1                # Minimum exploration probability \n",
    "decay_rate = 0.01                 # Exponential decay rate for exploration prob"
   ]
  },
  {
   "attachments": {
    "image.png": {
     "image/png": "[encoded data removed]"
    }
   },
   "cell_type": "markdown",
   "metadata": {},
   "source": [
    "#### How to use\n",
    "Change the policy in here, by changeing the value of flag to '0' or '1'\n",
    "![image.png](attachment:image.png)"
   ]
  },
  {
   "cell_type": "code",
   "execution_count": 7,
   "metadata": {},
   "outputs": [],
   "source": [
    "## =============== UCB1 eploration policy ==============\n",
    "## function for recording how many times actions is taken\n",
    "n_action = np.zeros(action_size)\n",
    "def action_n_times(val):\n",
    "    n_action[val]+=1;\n",
    "\n",
    "## upper confidence\n",
    "def Ut_a(step,na):\n",
    "    # derived from UCB1 equation - see references at bottom\n",
    "    if na == 0:\n",
    "        # assume na=0 means infinity and have higher chance to be choosen as next action\n",
    "        return 1000 \n",
    "    else:\n",
    "        # step+1 to handle loop that start from 0\n",
    "        return np.square(2*np.log(step+1)/na)\n",
    "    \n",
    "\n",
    "# function for UCB1\n",
    "def UCB_1(state,step):\n",
    "    newProb = np.zeros(action_size, dtype=float)\n",
    "    newProb = copy.deepcopy( np.array( qtable[state, :] ) )\n",
    "    \n",
    "    #UCB1 equation\n",
    "    for x in range(0,action_size):\n",
    "           newProb[x] = newProb[x]+Ut_a(step,n_action[x])\n",
    "            \n",
    "    action = np.argmax(newProb)\n",
    "    return action\n",
    "\n",
    "### ========== epsilon-greedy ==============\n",
    "# get next action, using epsilon greedy policy\n",
    "def getNextAction(state):\n",
    "    action=0\n",
    "    if np.random.uniform(0, 1) < epsilon:\n",
    "        action = env.action_space.sample()\n",
    "    else:\n",
    "        #action = greedy_action(state)\n",
    "        action = np.argmax(qtable[state, :])\n",
    "    return action\n",
    "\n",
    "## ============= train RL =================\n",
    "\n",
    "## ===== choose policy here\n",
    "# 0 = epsilon-greedy\n",
    "# 1 = UCB1 \n",
    "flag = 1;\n",
    "## =======================\n",
    "\n",
    "for episode in range(total_episodes):\n",
    "    # Reset the environment\n",
    "    state = env.reset()\n",
    "    step = 0\n",
    "    done = False\n",
    "    \n",
    "    for step in range(max_steps):\n",
    "        \n",
    "        #******************Part2: Implement SARSA by yourself*******************\n",
    "\n",
    "        if flag == 0:\n",
    "## ============== policy - epsilon greedy ===========\n",
    "            action = getNextAction(state)\n",
    "            # get next env steps\n",
    "            new_state, reward, done, info = env.step(action)\n",
    "            #get next actions for sarsa equation\n",
    "            new_action = getNextAction(new_state)\n",
    "        elif flag == 1:\n",
    "## ============= policy - UCB1 ============        \n",
    "            action = UCB_1(state,step)\n",
    "            action_n_times(action) ## record action that choosen\n",
    "            new_state, reward, done, info = env.step(action)\n",
    "            new_action = UCB_1(new_state,step+1) # get next action\n",
    "        \n",
    "        # Update Q table with sarsa equation\n",
    "        predict = qtable[state, action]\n",
    "        target = reward + gamma * qtable[new_state, new_action]\n",
    "        qtable[state, action] = qtable[state, action] + learning_rate * (target - predict)\n",
    "        #***********************************************************************\n",
    "        \n",
    "        # Our new state is state\n",
    "        state = new_state\n",
    "        \n",
    "        # If done : finish episode\n",
    "        if done == True: \n",
    "            break\n",
    "    \n",
    "    #**************Part3: Try different epsilon reduction methods by yourself****************    \n",
    "    # Reduce epsilon (because we need less and less exploration)    \n",
    "    epsilon = min_epsilon + (max_epsilon - min_epsilon)*np.exp(-decay_rate*episode)"
   ]
  },
  {
   "cell_type": "code",
   "execution_count": 8,
   "metadata": {},
   "outputs": [
    {
     "name": "stdout",
     "output_type": "stream",
     "text": [
      "SARSA | Score over time: 8.47\n"
     ]
    }
   ],
   "source": [
    "env.reset()\n",
    "rewards = []\n",
    "\n",
    "for episode in range(total_test_episodes):\n",
    "    state = env.reset()\n",
    "    step = 0\n",
    "    done = False\n",
    "    total_rewards = 0\n",
    "\n",
    "    for step in range(max_steps):\n",
    "        # Take the action (index) that have the maximum expected future reward given that state\n",
    "        action = np.argmax(qtable[state,:])\n",
    "        \n",
    "        new_state, reward, done, info = env.step(action)\n",
    "        \n",
    "        total_rewards += reward\n",
    "        \n",
    "        if done:\n",
    "            rewards.append(total_rewards)\n",
    "            #print (\"Score\", total_rewards)\n",
    "            break\n",
    "        state = new_state\n",
    "env.close()\n",
    "print (\"SARSA | Score over time: \" +  str(sum(rewards)/total_test_episodes))"
   ]
  },
  {
   "cell_type": "code",
   "execution_count": null,
   "metadata": {},
   "outputs": [],
   "source": [
    "#DEBUG\n",
    "\n",
    "print(step)\n",
    "print(qtable[2, :])\n",
    "\n",
    "#print(str(np.random.randint(0, action_size)))\n",
    "#print(str(random.uniform(0,1)))\n",
    "#print(str(np.random.rand()))\n",
    "#random.uniform(0,1)"
   ]
  },
  {
   "cell_type": "markdown",
   "metadata": {},
   "source": [
    "# Demo (SARSA)"
   ]
  },
  {
   "cell_type": "code",
   "execution_count": null,
   "metadata": {},
   "outputs": [],
   "source": [
    "env.reset()\n",
    "rewards = []\n",
    "perf=0\n",
    "score=0\n",
    "\n",
    "for episode in range(total_demo_episodes):\n",
    "    clear_screen(0)\n",
    "    state = env.reset()\n",
    "    step = 0\n",
    "    done = False\n",
    "    total_rewards = 0\n",
    "\n",
    "    for step in range(max_steps):\n",
    "        # Take the action (index) that have the maximum expected future reward given that state\n",
    "        action = np.argmax(qtable[state,:])\n",
    "        \n",
    "        new_state, reward, done, info = env.step(action)\n",
    "        \n",
    "        total_rewards += reward\n",
    "        \n",
    "        if done:\n",
    "            rewards.append(total_rewards)\n",
    "            #print (\"Score\", total_rewards)\n",
    "            log_progress(env, reward=reward, total_reward=total_rewards, delay=0.5, message=perf_message(episode, perf))\n",
    "            break\n",
    "        log_progress(env, reward=reward, total_reward=total_rewards, delay=0.5, message=perf_message(episode, perf))\n",
    "        state = new_state\n",
    "        \n",
    "    clear_screen(0)  \n",
    "    score += total_rewards\n",
    "    perf = score/(episode + 1)\n",
    "    \n",
    "env.close()\n",
    "print (\"Score\", total_rewards)"
   ]
  },
  {
   "cell_type": "markdown",
   "metadata": {},
   "source": [
    "# Questions:"
   ]
  },
  {
   "cell_type": "markdown",
   "metadata": {},
   "source": [
    "Q1: Which policy algorithm do you use?"
   ]
  },
  {
   "cell_type": "markdown",
   "metadata": {},
   "source": [
    "#Epsilon-Greedy or UCB1 you can try one of them and commenting the other one, both of them is running with score over time above 8.0\n",
    "#you can see the average result in here : #https://docs.google.com/spreadsheets/d/1mBEnJPiyEh2r7CsEzBYaoJIqQjB4RBunJ4vgQ8jsiMk/edit?usp=sharing\n",
    "#which shown that UCB1 perform better in terms of score over time above 8.0 and average"
   ]
  },
  {
   "cell_type": "markdown",
   "metadata": {},
   "source": [
    "Q2: Briefly introduce SARSA algorithm."
   ]
  },
  {
   "attachments": {
    "image.png": {
     "image/png": "[encoded data removed]"
    }
   },
   "cell_type": "markdown",
   "metadata": {},
   "source": [
    "#Sarsa is an on-policy control method for RL learning to fill Q-table, An on-policy control method chooses the action for each state during learning by following a certain policy (mostly the one it is evaluating itself, like in policy iteration). \n",
    "\n",
    "#Sarsa equation\n",
    "![image.png](attachment:image.png)"
   ]
  },
  {
   "attachments": {
    "image.png": {
     "image/png": "[encoded data removed]"
    }
   },
   "cell_type": "markdown",
   "metadata": {},
   "source": [
    "#policy equation ===============\n",
    "##Epsilon-Greedy ------------------\n",
    "![image.png](attachment:image.png)"
   ]
  },
  {
   "attachments": {
    "image.png": {
     "image/png": "[encoded data removed]"
    }
   },
   "cell_type": "markdown",
   "metadata": {},
   "source": [
    "![image.png](attachment:image.png)"
   ]
  },
  {
   "attachments": {
    "image.png": {
     "image/png": "[encoded data removed]"
    }
   },
   "cell_type": "markdown",
   "metadata": {},
   "source": [
    "##UCB1-------------------------\n",
    "![image.png](attachment:image.png)"
   ]
  },
  {
   "cell_type": "markdown",
   "metadata": {},
   "source": [
    "Q3: Discuss the difference between Q-Learning and SARSA algorithm."
   ]
  },
  {
   "cell_type": "markdown",
   "metadata": {},
   "source": [
    "#The main difference between Q-Learning and Sarsa are Q-Learning is off-policy and sarsa is on-policy, which also means they have different equation for update Q-table"
   ]
  },
  {
   "attachments": {},
   "cell_type": "markdown",
   "metadata": {},
   "source": [
    "#### References\n",
    "#https://www.quora.com/What-is-the-difference-between-Q-learning-and-SARSA-learning\n",
    "#https://medium.com/swlh/introduction-to-reinforcement-learning-coding-sarsa-part-4-2d64d6e37617\n",
    "#https://towardsdatascience.com/reinforcement-learning-temporal-difference-sarsa-q-learning-expected-sarsa-on-python-9fecfda7467e\n",
    "###### UCB referrences\n",
    "#https://www.coursera.org/lecture/practical-rl/ucb-1-fr4uU | minute 3:00\n",
    "#https://towardsdatascience.com/reinforcement-learning-demystified-exploration-vs-exploitation-in-multi-armed-bandit-setting-be950d2ee9f6\n",
    "#https://github.com/lilianweng/multi-armed-bandit/blob/master/solvers.py#L45\n"
   ]
  },
  {
   "cell_type": "code",
   "execution_count": null,
   "metadata": {},
   "outputs": [],
   "source": []
  }
 ],
 "metadata": {
  "kernelspec": {
   "display_name": "Python 3",
   "language": "python",
   "name": "python3"
  },
  "language_info": {
   "codemirror_mode": {
    "name": "ipython",
    "version": 3
   },
   "file_extension": ".py",
   "mimetype": "text/x-python",
   "name": "python",
   "nbconvert_exporter": "python",
   "pygments_lexer": "ipython3",
   "version": "3.7.2"
  }
 },
 "nbformat": 4,
 "nbformat_minor": 2
}
